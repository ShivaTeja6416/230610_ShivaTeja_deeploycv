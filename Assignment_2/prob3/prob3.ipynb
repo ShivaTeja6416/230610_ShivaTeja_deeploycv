{
 "cells": [
  {
   "cell_type": "code",
   "id": "initial_id",
   "metadata": {
    "collapsed": true,
    "ExecuteTime": {
     "end_time": "2024-12-20T10:37:20.933930Z",
     "start_time": "2024-12-20T10:37:20.422332Z"
    }
   },
   "source": [
    "import cv2\n",
    "import torch\n",
    "\n",
    "# Load the custom-trained YOLOv5 model\n",
    "model_path = 'yolov5s.pt'\n",
    "model = torch.hub.load('ultralytics/yolov5', 'custom', path=model_path)\n",
    "\n",
    "# Load the image\n",
    "image_path = 'prob3_img1.jpg'\n",
    "img = cv2.imread(image_path)\n",
    "\n",
    "# Perform object detection\n",
    "results = model(img)\n",
    "\n",
    "# Check for detected flags and classify\n",
    "flag_type = \"Unknown\"\n",
    "\n",
    "# Process results\n",
    "for *xyxy, conf, cls in results.xyxy[0]:  # *xyxy are bounding box coordinates\n",
    "    label = results.names[int(cls)]\n",
    "\n",
    "    # Assuming custom-trained labels 'indonesian_flag' and 'polish_flag'\n",
    "    if label == 'indonesian_flag':\n",
    "        flag_type = \"Indonesian\"\n",
    "        break\n",
    "    elif label == 'polish_flag':\n",
    "        flag_type = \"Polish\"\n",
    "        break\n",
    "\n",
    "print(f\"Detected flag type: {flag_type}\")\n"
   ],
   "outputs": [
    {
     "name": "stderr",
     "output_type": "stream",
     "text": [
      "Using cache found in C:\\Users\\shiva/.cache\\torch\\hub\\ultralytics_yolov5_master\n",
      "YOLOv5  2024-12-19 Python-3.12.8 torch-2.5.1+cpu CPU\n",
      "\n",
      "Fusing layers... \n",
      "YOLOv5s summary: 213 layers, 7225885 parameters, 0 gradients, 16.4 GFLOPs\n",
      "Adding AutoShape... \n",
      "C:\\Users\\shiva/.cache\\torch\\hub\\ultralytics_yolov5_master\\models\\common.py:892: FutureWarning: `torch.cuda.amp.autocast(args...)` is deprecated. Please use `torch.amp.autocast('cuda', args...)` instead.\n",
      "  with amp.autocast(autocast):\n"
     ]
    },
    {
     "name": "stdout",
     "output_type": "stream",
     "text": [
      "Detected flag type: Unknown\n"
     ]
    }
   ],
   "execution_count": 17
  }
 ],
 "metadata": {
  "kernelspec": {
   "display_name": "Python 3",
   "language": "python",
   "name": "python3"
  },
  "language_info": {
   "codemirror_mode": {
    "name": "ipython",
    "version": 2
   },
   "file_extension": ".py",
   "mimetype": "text/x-python",
   "name": "python",
   "nbconvert_exporter": "python",
   "pygments_lexer": "ipython2",
   "version": "2.7.6"
  }
 },
 "nbformat": 4,
 "nbformat_minor": 5
}
