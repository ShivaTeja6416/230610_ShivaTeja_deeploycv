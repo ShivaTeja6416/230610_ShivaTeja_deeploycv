{
 "cells": [
  {
   "cell_type": "code",
   "id": "initial_id",
   "metadata": {
    "collapsed": true,
    "ExecuteTime": {
     "end_time": "2024-12-24T10:11:11.836133Z",
     "start_time": "2024-12-24T10:11:09.701449Z"
    }
   },
   "source": [
    "import cv2\n",
    "import torch\n",
    "from torchvision import models, transforms\n",
    "from torchvision.models.detection import SSD300_VGG16_Weights\n",
    "from PIL import Image\n",
    "import random\n",
    "\n",
    "# Load the pre-trained SSD300 model with VGG16 backbone using the new weights parameter\n",
    "weights = SSD300_VGG16_Weights.COCO_V1\n",
    "model = models.detection.ssd300_vgg16(weights=weights)\n",
    "model.eval()\n",
    "\n",
    "# Define the transformation\n",
    "transform = transforms.Compose([\n",
    "    transforms.ToTensor()\n",
    "])\n",
    "\n",
    "# Fetch COCO class labels from the weights\n",
    "coco_labels = weights.meta[\"categories\"]\n",
    "\n",
    "# Assign random colors to each class label\n",
    "colors = {label: (random.randint(0, 255), random.randint(0, 255), random.randint(0, 255)) for label in coco_labels}\n",
    "\n",
    "# Open the video file\n",
    "video_path = 'sample_video.mp4'\n",
    "cap = cv2.VideoCapture(video_path)\n",
    "\n",
    "# Define the codec and create a VideoWriter object\n",
    "fourcc = cv2.VideoWriter_fourcc(*'XVID')\n",
    "out = cv2.VideoWriter('ssd_output.mp4', fourcc, 30.0, (int(cap.get(3)), int(cap.get(4))))\n",
    "\n",
    "while cap.isOpened():\n",
    "    ret, frame = cap.read()\n",
    "    if not ret:\n",
    "        break\n",
    "\n",
    "    # Convert frame to PIL Image\n",
    "    pil_img = Image.fromarray(cv2.cvtColor(frame, cv2.COLOR_BGR2RGB))\n",
    "\n",
    "    # Apply the transformations\n",
    "    input_img = transform(pil_img).unsqueeze(0)\n",
    "\n",
    "    # Perform object detection\n",
    "    with torch.no_grad():\n",
    "        detections = model(input_img)[0]\n",
    "\n",
    "    # Draw bounding boxes and labels on the frame\n",
    "    for i in range(len(detections['boxes'])):\n",
    "        box = detections['boxes'][i].numpy().astype(int)\n",
    "        score = detections['scores'][i].item()\n",
    "        label = coco_labels[detections['labels'][i]]\n",
    "        color = colors[label]\n",
    "        if 0.2 <= score <= 1:  # Confidence threshold range\n",
    "            cv2.rectangle(frame, (box[0], box[1]), (box[2], box[3]), color, 2)\n",
    "            cv2.putText(frame, f'{label}: {score:.2f}', (box[0], box[1]-10), cv2.FONT_HERSHEY_SIMPLEX, 0.5, color, 2)\n",
    "\n",
    "    # Display the frame\n",
    "    cv2.imshow('Object Detection', frame)\n",
    "\n",
    "    # Write the frame to the output video\n",
    "    out.write(frame)\n",
    "\n",
    "    # Break the loop if 'q' is pressed\n",
    "    if cv2.waitKey(1) & 0xFF == ord('q'):\n",
    "        break\n",
    "\n",
    "# Release everything\n",
    "cap.release()\n",
    "out.release()\n",
    "cv2.destroyAllWindows()\n"
   ],
   "outputs": [
    {
     "ename": "error",
     "evalue": "OpenCV(4.10.0) D:\\a\\opencv-python\\opencv-python\\opencv\\modules\\highgui\\src\\window.cpp:1301: error: (-2:Unspecified error) The function is not implemented. Rebuild the library with Windows, GTK+ 2.x or Cocoa support. If you are on Ubuntu or Debian, install libgtk2.0-dev and pkg-config, then re-run cmake or configure script in function 'cvShowImage'\n",
     "output_type": "error",
     "traceback": [
      "\u001B[1;31m---------------------------------------------------------------------------\u001B[0m",
      "\u001B[1;31merror\u001B[0m                                     Traceback (most recent call last)",
      "Cell \u001B[1;32mIn[3], line 58\u001B[0m\n\u001B[0;32m     55\u001B[0m         cv2\u001B[38;5;241m.\u001B[39mputText(frame, \u001B[38;5;124mf\u001B[39m\u001B[38;5;124m'\u001B[39m\u001B[38;5;132;01m{\u001B[39;00mlabel\u001B[38;5;132;01m}\u001B[39;00m\u001B[38;5;124m: \u001B[39m\u001B[38;5;132;01m{\u001B[39;00mscore\u001B[38;5;132;01m:\u001B[39;00m\u001B[38;5;124m.2f\u001B[39m\u001B[38;5;132;01m}\u001B[39;00m\u001B[38;5;124m'\u001B[39m, (box[\u001B[38;5;241m0\u001B[39m], box[\u001B[38;5;241m1\u001B[39m]\u001B[38;5;241m-\u001B[39m\u001B[38;5;241m10\u001B[39m), cv2\u001B[38;5;241m.\u001B[39mFONT_HERSHEY_SIMPLEX, \u001B[38;5;241m0.5\u001B[39m, color, \u001B[38;5;241m2\u001B[39m)\n\u001B[0;32m     57\u001B[0m \u001B[38;5;66;03m# Display the frame\u001B[39;00m\n\u001B[1;32m---> 58\u001B[0m \u001B[43mcv2\u001B[49m\u001B[38;5;241;43m.\u001B[39;49m\u001B[43mimshow\u001B[49m\u001B[43m(\u001B[49m\u001B[38;5;124;43m'\u001B[39;49m\u001B[38;5;124;43mObject Detection\u001B[39;49m\u001B[38;5;124;43m'\u001B[39;49m\u001B[43m,\u001B[49m\u001B[43m \u001B[49m\u001B[43mframe\u001B[49m\u001B[43m)\u001B[49m\n\u001B[0;32m     60\u001B[0m \u001B[38;5;66;03m# Write the frame to the output video\u001B[39;00m\n\u001B[0;32m     61\u001B[0m out\u001B[38;5;241m.\u001B[39mwrite(frame)\n",
      "\u001B[1;31merror\u001B[0m: OpenCV(4.10.0) D:\\a\\opencv-python\\opencv-python\\opencv\\modules\\highgui\\src\\window.cpp:1301: error: (-2:Unspecified error) The function is not implemented. Rebuild the library with Windows, GTK+ 2.x or Cocoa support. If you are on Ubuntu or Debian, install libgtk2.0-dev and pkg-config, then re-run cmake or configure script in function 'cvShowImage'\n"
     ]
    }
   ],
   "execution_count": 3
  }
 ],
 "metadata": {
  "kernelspec": {
   "display_name": "Python 3",
   "language": "python",
   "name": "python3"
  },
  "language_info": {
   "codemirror_mode": {
    "name": "ipython",
    "version": 2
   },
   "file_extension": ".py",
   "mimetype": "text/x-python",
   "name": "python",
   "nbconvert_exporter": "python",
   "pygments_lexer": "ipython2",
   "version": "2.7.6"
  }
 },
 "nbformat": 4,
 "nbformat_minor": 5
}
