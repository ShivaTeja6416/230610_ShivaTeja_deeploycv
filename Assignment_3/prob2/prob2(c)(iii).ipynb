{
 "cells": [
  {
   "cell_type": "code",
   "id": "initial_id",
   "metadata": {
    "collapsed": true,
    "ExecuteTime": {
     "end_time": "2024-12-25T04:55:15.973385Z",
     "start_time": "2024-12-25T04:54:40.801717Z"
    }
   },
   "source": [
    "import numpy as np\n",
    "from sklearn.linear_model import Ridge\n",
    "\n",
    "def fit_plane_with_ridge(features, target, alpha):\n",
    "    # Create Ridge Regression model\n",
    "    ridge_model = Ridge(alpha=alpha)\n",
    "    ridge_model.fit(features, target)\n",
    "    return ridge_model.coef_, ridge_model.intercept_\n",
    "\n",
    "# Example Input from User\n",
    "num_points = int(input(\"Enter the number of data points: \"))\n",
    "num_features = int(input(\"Enter the number of features: \"))\n",
    "data = []\n",
    "for _ in range(num_points):\n",
    "    row = list(map(float, input(\"Enter the data row by row (features followed by target):\").split()))\n",
    "    data.append(row)\n",
    "data = np.array(data)\n",
    "features, target = data[:, :-1], data[:, -1]\n",
    "\n",
    "# Fit the model and display the results\n",
    "alpha = 1.0  # Regularization parameter\n",
    "coefficients, intercept = fit_plane_with_ridge(features, target, alpha)\n",
    "print(\"Coefficients:\", coefficients)\n",
    "print(\"Intercept:\", intercept)"
   ],
   "outputs": [
    {
     "name": "stdout",
     "output_type": "stream",
     "text": [
      "Coefficients: [0.48648649 0.48648649]\n",
      "Intercept: 1.6216216216216202\n"
     ]
    }
   ],
   "execution_count": 8
  }
 ],
 "metadata": {
  "kernelspec": {
   "display_name": "Python 3",
   "language": "python",
   "name": "python3"
  },
  "language_info": {
   "codemirror_mode": {
    "name": "ipython",
    "version": 2
   },
   "file_extension": ".py",
   "mimetype": "text/x-python",
   "name": "python",
   "nbconvert_exporter": "python",
   "pygments_lexer": "ipython2",
   "version": "2.7.6"
  }
 },
 "nbformat": 4,
 "nbformat_minor": 5
}
