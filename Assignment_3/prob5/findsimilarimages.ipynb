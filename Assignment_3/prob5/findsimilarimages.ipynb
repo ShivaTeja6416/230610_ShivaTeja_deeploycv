{
 "cells": [
  {
   "cell_type": "code",
   "id": "initial_id",
   "metadata": {
    "collapsed": true,
    "jupyter": {
     "is_executing": true
    },
    "ExecuteTime": {
     "start_time": "2024-12-26T18:35:38.156697Z"
    }
   },
   "source": [
    "import os\n",
    "\n",
    "from PIL import Image, ImageDraw\n",
    "import torch\n",
    "from torchvision import models, transforms\n",
    "import torch.nn as nn\n",
    "from annoy import AnnoyIndex\n",
    "\n",
    "# Path to your image folder\n",
    "images_folder = r'C:\\Users\\shiva\\archive\\PetImages\\Cat'\n",
    "\n",
    "# List the images in the folder\n",
    "images = os.listdir(images_folder)\n",
    "\n",
    "# Load the pre-trained ResNet18 model\n",
    "weights = models.ResNet18_Weights.IMAGENET1K_V1\n",
    "model = models.resnet18(weights=weights)\n",
    "model.fc = nn.Identity()\n",
    "\n",
    "model.eval()\n",
    "# Define the transformation pipeline\n",
    "transform = transforms.Compose([\n",
    "    transforms.Resize((224, 224)),\n",
    "    transforms.ToTensor()\n",
    "])\n",
    "\n",
    "annoy_index = AnnoyIndex(512, 'angular')\n",
    "annoy_index.load('cat_index.ann')\n",
    "\n",
    "image_grid = Image.new('RGB', (1000, 1000))\n",
    "\n",
    "for i in range(len(images)):\n",
    "    image = Image.open(os.path.join(images_folder, images[i]))\n",
    "    input_tensor = transform(image).unsqueeze(0)\n",
    "\n",
    "    if input_tensor.size()[1] == 3:\n",
    "        output_tensor = model(input_tensor)\n",
    "\n",
    "        nns = annoy_index.get_nns_by_vector(output_tensor[0], 24)\n",
    "        image = image.resize((200, 200))\n",
    "        image_draw = ImageDraw.Draw(image)\n",
    "        image_draw.rectangle([(0,0), (199,199)], outline='red', width=8)\n",
    "        image_grid.paste(image, ((0,0)))\n",
    "\n",
    "        for j in range(24):\n",
    "            search_image = Image.open(os.path.join(images_folder, images[nns[j]]))\n",
    "            search_image = search_image.resize((200, 200))\n",
    "            image_grid.paste(search_image, (200 * ((j+1)%5), 200 * ((j+1)//5)))\n",
    "        image_grid.save(f'imagedump/image{i}.png')\n",
    "\n",
    "\n"
   ],
   "outputs": [],
   "execution_count": null
  }
 ],
 "metadata": {
  "kernelspec": {
   "display_name": "Python 3",
   "language": "python",
   "name": "python3"
  },
  "language_info": {
   "codemirror_mode": {
    "name": "ipython",
    "version": 2
   },
   "file_extension": ".py",
   "mimetype": "text/x-python",
   "name": "python",
   "nbconvert_exporter": "python",
   "pygments_lexer": "ipython2",
   "version": "2.7.6"
  }
 },
 "nbformat": 4,
 "nbformat_minor": 5
}
